{
 "cells": [
  {
   "cell_type": "code",
   "execution_count": 9,
   "metadata": {},
   "outputs": [
    {
     "ename": "AttributeError",
     "evalue": "'Adam' object has no attribute 'zero_grad'",
     "output_type": "error",
     "traceback": [
      "\u001b[0;31m---------------------------------------------------------------------------\u001b[0m",
      "\u001b[0;31mAttributeError\u001b[0m                            Traceback (most recent call last)",
      "Cell \u001b[0;32mIn[9], line 36\u001b[0m\n\u001b[1;32m     34\u001b[0m target \u001b[38;5;241m=\u001b[39m reward_val \u001b[38;5;241m+\u001b[39m \u001b[38;5;241m0.9\u001b[39m \u001b[38;5;241m*\u001b[39m np\u001b[38;5;241m.\u001b[39mmax(Q[next_state])\n\u001b[1;32m     35\u001b[0m loss \u001b[38;5;241m=\u001b[39m (Q[state, action] \u001b[38;5;241m-\u001b[39m target) \u001b[38;5;241m*\u001b[39m\u001b[38;5;241m*\u001b[39m \u001b[38;5;241m2\u001b[39m\n\u001b[0;32m---> 36\u001b[0m \u001b[43moptimizer\u001b[49m\u001b[38;5;241;43m.\u001b[39;49m\u001b[43mzero_grad\u001b[49m()\n\u001b[1;32m     37\u001b[0m loss\u001b[38;5;241m.\u001b[39mbackward()\n\u001b[1;32m     38\u001b[0m optimizer\u001b[38;5;241m.\u001b[39mstep()\n",
      "\u001b[0;31mAttributeError\u001b[0m: 'Adam' object has no attribute 'zero_grad'"
     ]
    }
   ],
   "source": [
    "import numpy as np\n",
    "import random\n",
    "from tensorflow.keras.optimizers import Adam\n",
    "\n",
    "# Define the state and action spaces\n",
    "state_space = [100, 50, 20, 10]  # susceptible, infected, recovered, arriving\n",
    "action_space = [0, 1]  # vaccination rate (0 or 1)\n",
    "\n",
    "# Define the reward function\n",
    "def reward(state, action):\n",
    "\talpha = 0.1\n",
    "\treturn -state[1] - alpha * action\n",
    "\n",
    "# Define the Q-function\n",
    "Q = np.random.rand(len(state_space), len(action_space))\n",
    "\n",
    "# Define the Adam optimizer\n",
    "optimizer = Adam(learning_rate=0.001)\n",
    "\n",
    "# Define the DQN algorithm\n",
    "def dqn(state):\n",
    "\tepsilon = 0.1\n",
    "\tif random.random() < epsilon:\n",
    "\t\treturn random.choice(action_space)\n",
    "\telse:\n",
    "\t\treturn np.argmax(Q[state])\n",
    "\n",
    "# Test the DQN algorithm\n",
    "for i in range(1000):\n",
    "\tstate = random.choice(range(len(state_space)))\n",
    "\taction = dqn(state)\n",
    "\treward_val = reward(state_space, action)\n",
    "\tnext_state = random.choice(range(len(state_space)))\n",
    "\ttarget = reward_val + 0.9 * np.max(Q[next_state])\n",
    "\tloss = (Q[state, action] - target) ** 2\n",
    "\toptimizer.zero_grad()\n",
    "\tloss.backward()\n",
    "\toptimizer.step()\n",
    "\tQ[state, action] = Q[state, action] - 0.001 * (Q[state, action] - target)\n",
    "\n",
    "# Print the Q-function\n",
    "print(Q)"
   ]
  },
  {
   "cell_type": "code",
   "execution_count": null,
   "metadata": {},
   "outputs": [],
   "source": []
  }
 ],
 "metadata": {
  "kernelspec": {
   "display_name": "Python 3",
   "language": "python",
   "name": "python3"
  },
  "language_info": {
   "codemirror_mode": {
    "name": "ipython",
    "version": 3
   },
   "file_extension": ".py",
   "mimetype": "text/x-python",
   "name": "python",
   "nbconvert_exporter": "python",
   "pygments_lexer": "ipython3",
   "version": "3.10.12"
  }
 },
 "nbformat": 4,
 "nbformat_minor": 2
}
